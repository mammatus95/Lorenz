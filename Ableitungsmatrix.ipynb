{
 "cells": [
  {
   "cell_type": "code",
   "execution_count": 1,
   "metadata": {},
   "outputs": [],
   "source": [
    "%matplotlib inline\n",
    "import numpy as np\n",
    "import matplotlib as plt\n",
    "import matplotlib.pyplot as plt\n",
    "import math"
   ]
  },
  {
   "cell_type": "code",
   "execution_count": 4,
   "metadata": {},
   "outputs": [],
   "source": [
    "def creat_deri_matrix (size,dx):\n",
    "    \"\"\"\n",
    "    Erstellt eine Ableitungsmatrix in beliebiger Größe\n",
    "    Parameters:\n",
    "    -----------\n",
    "    size : größe der Matrix\n",
    "    dx : Gitterabstand in x-Richtung in Metern\n",
    "    dy : Gitterabstand in y-Richtung in Metern\n",
    "    \n",
    "    Returns:\n",
    "    --------\n",
    "    Ableitungsmatrix:\n",
    "    np.array([[-2.,  2.,  0., ...,  0.,  0.,  0.],\n",
    "              [-1.,  0.,  1., ...,  0.,  0.,  0.],\n",
    "              [ 0., -1.,  0., ...,  0.,  0.,  0.],\n",
    "               ..., \n",
    "              [ 0.,  0.,  0., ...,  0.,  1.,  0.],\n",
    "              [ 0.,  0.,  0., ..., -1.,  0.,  1.],\n",
    "              [ 0.,  0.,  0., ...,  0., -2.,  2.]]\n",
    "              )\n",
    "    \n",
    "    \"\"\"\n",
    "    X = np.zeros((size,size))\n",
    "    for i in range(0,size):\n",
    "        for j in range (0,size):\n",
    "            if (j-1) == i:\n",
    "                X[i,j]=1\n",
    "            if (j+1) == i:\n",
    "                X[i,j]=-1\n",
    "\n",
    "    X[0,0]=-2\n",
    "    X[0,1]=2\n",
    "    X[size-1,size-2]=-2\n",
    "    X[size-1,size-1]=2\n",
    "\n",
    "    X *= 1/(2*dx)\n",
    "    return X"
   ]
  },
  {
   "cell_type": "code",
   "execution_count": 52,
   "metadata": {},
   "outputs": [],
   "source": [
    "A = creat_deri_matrix(4,1)"
   ]
  },
  {
   "cell_type": "code",
   "execution_count": 53,
   "metadata": {},
   "outputs": [
    {
     "data": {
      "text/plain": [
       "array([[-1. ,  1. ,  0. ,  0. ],\n",
       "       [-0.5,  0. ,  0.5,  0. ],\n",
       "       [ 0. , -0.5,  0. ,  0.5],\n",
       "       [ 0. ,  0. , -1. ,  1. ]])"
      ]
     },
     "execution_count": 53,
     "metadata": {},
     "output_type": "execute_result"
    }
   ],
   "source": [
    "A"
   ]
  },
  {
   "cell_type": "code",
   "execution_count": 55,
   "metadata": {},
   "outputs": [
    {
     "data": {
      "text/plain": [
       "array([[-1. , -0.5,  0. ,  0. ],\n",
       "       [ 1. ,  0. , -0.5,  0. ],\n",
       "       [ 0. ,  0.5,  0. , -1. ],\n",
       "       [ 0. ,  0. ,  0.5,  1. ]])"
      ]
     },
     "execution_count": 55,
     "metadata": {},
     "output_type": "execute_result"
    }
   ],
   "source": [
    "A.T"
   ]
  },
  {
   "cell_type": "code",
   "execution_count": 45,
   "metadata": {},
   "outputs": [],
   "source": [
    "a = np.arange(1,17,1).reshape(4, 4)"
   ]
  },
  {
   "cell_type": "code",
   "execution_count": 41,
   "metadata": {},
   "outputs": [],
   "source": [
    "a[1,:]+=1"
   ]
  },
  {
   "cell_type": "code",
   "execution_count": 46,
   "metadata": {},
   "outputs": [
    {
     "data": {
      "text/plain": [
       "array([[ 1,  2,  3,  4],\n",
       "       [ 5,  6,  7,  8],\n",
       "       [ 9, 10, 11, 12],\n",
       "       [13, 14, 15, 16]])"
      ]
     },
     "execution_count": 46,
     "metadata": {},
     "output_type": "execute_result"
    }
   ],
   "source": [
    "a"
   ]
  },
  {
   "cell_type": "code",
   "execution_count": 54,
   "metadata": {},
   "outputs": [],
   "source": [
    "a_strich = np.dot(A,a)"
   ]
  },
  {
   "cell_type": "code",
   "execution_count": 48,
   "metadata": {},
   "outputs": [
    {
     "data": {
      "text/plain": [
       "array([[4., 4., 4., 4.],\n",
       "       [4., 4., 4., 4.],\n",
       "       [4., 4., 4., 4.],\n",
       "       [4., 4., 4., 4.]])"
      ]
     },
     "execution_count": 48,
     "metadata": {},
     "output_type": "execute_result"
    }
   ],
   "source": [
    "a_strich"
   ]
  },
  {
   "cell_type": "code",
   "execution_count": 32,
   "metadata": {},
   "outputs": [
    {
     "data": {
      "text/plain": [
       "array([[1., 1., 1., 1.],\n",
       "       [1., 1., 1., 1.],\n",
       "       [1., 1., 1., 1.],\n",
       "       [1., 1., 1., 1.]])"
      ]
     },
     "execution_count": 32,
     "metadata": {},
     "output_type": "execute_result"
    }
   ],
   "source": [
    "a_strich = np.dot(a,A.T)\n",
    "a_strich"
   ]
  }
 ],
 "metadata": {
  "kernelspec": {
   "display_name": "Python 3 (ipykernel)",
   "language": "python",
   "name": "python3"
  },
  "language_info": {
   "codemirror_mode": {
    "name": "ipython",
    "version": 3
   },
   "file_extension": ".py",
   "mimetype": "text/x-python",
   "name": "python",
   "nbconvert_exporter": "python",
   "pygments_lexer": "ipython3",
   "version": "3.11.5"
  }
 },
 "nbformat": 4,
 "nbformat_minor": 4
}
